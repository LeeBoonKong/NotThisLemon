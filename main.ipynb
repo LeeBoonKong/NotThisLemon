{
 "cells": [
  {
   "cell_type": "markdown",
   "metadata": {},
   "source": [
    "# Build Model"
   ]
  },
  {
   "cell_type": "code",
   "execution_count": 1,
   "metadata": {},
   "outputs": [],
   "source": [
    "import numpy as np\n",
    "import pandas as pd"
   ]
  },
  {
   "cell_type": "code",
   "execution_count": 2,
   "metadata": {},
   "outputs": [],
   "source": [
    "#Load dataset\n",
    "df = pd.read_csv(\"train.csv\")"
   ]
  },
  {
   "cell_type": "code",
   "execution_count": 3,
   "metadata": {},
   "outputs": [],
   "source": [
    "prediction = [\"Lemon?\"]\n",
    "predictor = list(df.drop(prediction, axis=1))"
   ]
  },
  {
   "cell_type": "markdown",
   "metadata": {},
   "source": [
    "# Feature Extraction"
   ]
  },
  {
   "cell_type": "code",
   "execution_count": 4,
   "metadata": {},
   "outputs": [
    {
     "data": {
      "text/plain": [
       "['Auction',\n",
       " 'Vehicle Year',\n",
       " 'Vehicle Age',\n",
       " 'Make',\n",
       " 'Transmission',\n",
       " 'WheelType',\n",
       " 'VehOdo',\n",
       " 'Nationality',\n",
       " 'Size',\n",
       " 'TopThreeAmericanName',\n",
       " 'MMRAcquisitionAuctionAveragePrice',\n",
       " 'MMRAcquisitionAuctionCleanPrice',\n",
       " 'MMRAcquisitionRetailAveragePrice',\n",
       " 'MMRAcquisitonRetailCleanPrice',\n",
       " 'MMRCurrentAuctionAveragePrice',\n",
       " 'MMRCurrentAuctionCleanPrice',\n",
       " 'MMRCurrentRetailAveragePrice',\n",
       " 'MMRCurrentRetailCleanPrice',\n",
       " 'AUCGUART',\n",
       " 'VNST',\n",
       " 'VehBCost',\n",
       " 'IsOnlineSale',\n",
       " 'WarrantyCost']"
      ]
     },
     "execution_count": 4,
     "metadata": {},
     "output_type": "execute_result"
    }
   ],
   "source": [
    "#Remove uncessary Features\n",
    "predictor.remove(\"WheelTypeID\")\n",
    "predictor.remove(\"RefId\")\n",
    "predictor.remove(\"Model\")\n",
    "predictor.remove(\"Trim\")\n",
    "predictor.remove(\"SubModel\")\n",
    "predictor.remove(\"Color\")\n",
    "predictor.remove(\"PRIMEUNIT\")\n",
    "#predictor.remove(\"AUCGUART\")\n",
    "predictor.remove(\"VNZIP1\")\n",
    "predictor.remove(\"Date Purchased\")\n",
    "predictor.remove(\"BYRNO\")\n",
    "predictor"
   ]
  },
  {
   "cell_type": "code",
   "execution_count": 5,
   "metadata": {},
   "outputs": [],
   "source": [
    "#Convert columns to boolean\n",
    "#df['Lemon?'] = df['Lemon?'].astype('bool')\n",
    "#df['IsOnlineSale'] = df['IsOnlineSale'].astype('bool')\n"
   ]
  },
  {
   "cell_type": "code",
   "execution_count": 6,
   "metadata": {},
   "outputs": [
    {
     "name": "stdout",
     "output_type": "stream",
     "text": [
      "<class 'pandas.core.frame.DataFrame'>\n",
      "RangeIndex: 43789 entries, 0 to 43788\n",
      "Data columns (total 23 columns):\n",
      "Auction                              43789 non-null object\n",
      "Vehicle Year                         43789 non-null int64\n",
      "Vehicle Age                          43789 non-null int64\n",
      "Make                                 43789 non-null object\n",
      "Transmission                         43789 non-null object\n",
      "WheelType                            43789 non-null object\n",
      "VehOdo                               43789 non-null int64\n",
      "Nationality                          43789 non-null object\n",
      "Size                                 43789 non-null object\n",
      "TopThreeAmericanName                 43789 non-null object\n",
      "MMRAcquisitionAuctionAveragePrice    43775 non-null float64\n",
      "MMRAcquisitionAuctionCleanPrice      43775 non-null float64\n",
      "MMRAcquisitionRetailAveragePrice     43775 non-null float64\n",
      "MMRAcquisitonRetailCleanPrice        43775 non-null float64\n",
      "MMRCurrentAuctionAveragePrice        43598 non-null float64\n",
      "MMRCurrentAuctionCleanPrice          43598 non-null float64\n",
      "MMRCurrentRetailAveragePrice         43598 non-null float64\n",
      "MMRCurrentRetailCleanPrice           43598 non-null float64\n",
      "AUCGUART                             43789 non-null object\n",
      "VNST                                 43789 non-null object\n",
      "VehBCost                             43789 non-null float64\n",
      "IsOnlineSale                         43789 non-null int64\n",
      "WarrantyCost                         43789 non-null int64\n",
      "dtypes: float64(9), int64(5), object(9)\n",
      "memory usage: 7.7+ MB\n"
     ]
    }
   ],
   "source": [
    "#fill in missing value\n",
    "\n",
    "\n",
    "#Fill in missing string values\n",
    "X = df[predictor]\n",
    "values = {'Transmission': 'AUTO', 'WheelType': 'Alloy', 'Nationality': 'AMERICAN', 'Size': 'MEDIUM', 'TopThreeAmericanName':'GM','AUCGUART':'None'}\n",
    "X = X.fillna(value=values)\n",
    "\n",
    "#Transmission seems to have 'Manual and 'MANUAL', replace 'Manual' with all caps\n",
    "X = X.replace('Manual', 'MANUAL')\n",
    "X.info()"
   ]
  },
  {
   "cell_type": "code",
   "execution_count": 7,
   "metadata": {},
   "outputs": [
    {
     "name": "stdout",
     "output_type": "stream",
     "text": [
      "<class 'pandas.core.frame.DataFrame'>\n",
      "RangeIndex: 43789 entries, 0 to 43788\n",
      "Data columns (total 23 columns):\n",
      "Auction                              43789 non-null object\n",
      "Vehicle Year                         43789 non-null int64\n",
      "Vehicle Age                          43789 non-null int64\n",
      "Make                                 43789 non-null object\n",
      "Transmission                         43789 non-null object\n",
      "WheelType                            43789 non-null object\n",
      "VehOdo                               43789 non-null int64\n",
      "Nationality                          43789 non-null object\n",
      "Size                                 43789 non-null object\n",
      "TopThreeAmericanName                 43789 non-null object\n",
      "MMRAcquisitionAuctionAveragePrice    43789 non-null float64\n",
      "MMRAcquisitionAuctionCleanPrice      43789 non-null float64\n",
      "MMRAcquisitionRetailAveragePrice     43789 non-null float64\n",
      "MMRAcquisitonRetailCleanPrice        43789 non-null float64\n",
      "MMRCurrentAuctionAveragePrice        43789 non-null float64\n",
      "MMRCurrentAuctionCleanPrice          43789 non-null float64\n",
      "MMRCurrentRetailAveragePrice         43789 non-null float64\n",
      "MMRCurrentRetailCleanPrice           43789 non-null float64\n",
      "AUCGUART                             43789 non-null object\n",
      "VNST                                 43789 non-null object\n",
      "VehBCost                             43789 non-null float64\n",
      "IsOnlineSale                         43789 non-null int64\n",
      "WarrantyCost                         43789 non-null int64\n",
      "dtypes: float64(9), int64(5), object(9)\n",
      "memory usage: 7.7+ MB\n"
     ]
    }
   ],
   "source": [
    "#fill missing value with mean\n",
    "X = X.fillna(X.mean())\n",
    "X.info()"
   ]
  },
  {
   "cell_type": "code",
   "execution_count": 8,
   "metadata": {},
   "outputs": [],
   "source": [
    "#One hot encode\n",
    "string_variables =['Auction', 'Make', 'Transmission', 'WheelType', 'Nationality', 'Size', 'TopThreeAmericanName','VNST','AUCGUART']\n",
    "X = pd.get_dummies(X, prefix=string_variables)"
   ]
  },
  {
   "cell_type": "code",
   "execution_count": 9,
   "metadata": {},
   "outputs": [],
   "source": [
    "#Split validation set and training set\n",
    "from sklearn.model_selection import train_test_split\n",
    "\n",
    "y = np.ravel(df[prediction])\n",
    "\n",
    "X_train, X_test, y_train, y_test = train_test_split(X, y,\n",
    "                                                    test_size=0.2,\n",
    "                                                    random_state=123,\n",
    "                                                    stratify=y)"
   ]
  },
  {
   "cell_type": "markdown",
   "metadata": {},
   "source": [
    "# Training"
   ]
  },
  {
   "cell_type": "code",
   "execution_count": 10,
   "metadata": {},
   "outputs": [
    {
     "name": "stderr",
     "output_type": "stream",
     "text": [
      "E:\\Anaconda3\\envs\\DeepLearning\\lib\\site-packages\\sklearn\\cross_validation.py:41: DeprecationWarning: This module was deprecated in version 0.18 in favor of the model_selection module into which all the refactored classes and functions are moved. Also note that the interface of the new CV iterators are different from that of this module. This module will be removed in 0.20.\n",
      "  \"This module will be removed in 0.20.\", DeprecationWarning)\n"
     ]
    }
   ],
   "source": [
    "#Data processing pipeline\n",
    "from sklearn.ensemble import RandomForestClassifier\n",
    "from sklearn.svm import SVC\n",
    "from sklearn.ensemble import GradientBoostingClassifier\n",
    "from sklearn.ensemble import AdaBoostClassifier\n",
    "from xgboost.sklearn import XGBClassifier\n",
    "from sklearn.pipeline import make_pipeline\n",
    "from sklearn.pipeline import Pipeline\n",
    "from sklearn.preprocessing import RobustScaler\n",
    "from sklearn.metrics import mean_squared_error, r2_score\n",
    "\n",
    "rfc_pipeline = make_pipeline(RobustScaler(), RandomForestClassifier())\n",
    "#svc_pipeline = make_pipeline(RobustScaler(), SVC())\n",
    "gbc_pipeline = make_pipeline(RobustScaler(), GradientBoostingClassifier())\n",
    "adb_pipeline = make_pipeline(RobustScaler(), AdaBoostClassifier())\n",
    "xgb_pipeline = make_pipeline(RobustScaler(), XGBClassifier())"
   ]
  },
  {
   "cell_type": "code",
   "execution_count": 11,
   "metadata": {},
   "outputs": [
    {
     "data": {
      "text/plain": [
       "Pipeline(memory=None,\n",
       "     steps=[('robustscaler', RobustScaler(copy=True, quantile_range=(25.0, 75.0), with_centering=True,\n",
       "       with_scaling=True)), ('xgbclassifier', XGBClassifier(base_score=0.5, colsample_bylevel=1, colsample_bytree=1,\n",
       "       gamma=0, learning_rate=0.1, max_delta_step=0, max_depth=3,\n",
       "       min_child_weight=1, missing=None, n_estimators=100, nthread=-1,\n",
       "       objective='binary:logistic', reg_alpha=0, reg_lambda=1,\n",
       "       scale_pos_weight=1, seed=0, silent=True, subsample=1))])"
      ]
     },
     "execution_count": 11,
     "metadata": {},
     "output_type": "execute_result"
    }
   ],
   "source": [
    "#Train\n",
    "rfc_pipeline.fit(X_train, y_train)\n",
    "#svc_pipeline.fit(X_train, y_train)\n",
    "gbc_pipeline.fit(X_train, y_train)\n",
    "adb_pipeline.fit(X_train, y_train)\n",
    "xgb_pipeline.fit(X_train, y_train)"
   ]
  },
  {
   "cell_type": "code",
   "execution_count": 12,
   "metadata": {},
   "outputs": [
    {
     "name": "stdout",
     "output_type": "stream",
     "text": [
      "RFC:\n",
      "MSE: 0.127654715689\n",
      "R2: -0.183622673705\n",
      "GBC:\n",
      "MSE: 0.122288193652\n",
      "R2: -0.133863938764\n",
      "ADB:\n",
      "MSE: 0.122288193652\n",
      "R2: -0.133863938764\n",
      "XGB:\n",
      "MSE: 0.122516556291\n",
      "R2: -0.135981331741\n"
     ]
    }
   ],
   "source": [
    "#Predict\n",
    "pred = rfc_pipeline.predict(X_test)\n",
    "print(\"RFC:\")\n",
    "print(\"MSE: \" + str(mean_squared_error(y_test,pred)))\n",
    "print(\"R2: \" + str(r2_score(y_test,pred)))\n",
    "\n",
    "#pred2 = svc_pipeline.predict(X_test)\n",
    "#print(\"SVC:\")\n",
    "#print(\"MSE: \" + str(mean_squared_error(y_test,pred2)))\n",
    "#print(\"R2:\" + str(r2_score(y_test,pred2)))\n",
    "\n",
    "pred3 = gbc_pipeline.predict(X_test)\n",
    "print(\"GBC:\")\n",
    "print(\"MSE: \" + str(mean_squared_error(y_test,pred3)))\n",
    "print(\"R2: \" + str(r2_score(y_test,pred3)))\n",
    "\n",
    "pred4 = adb_pipeline.predict(X_test)\n",
    "print(\"ADB:\")\n",
    "print(\"MSE: \" + str(mean_squared_error(y_test,pred4)))\n",
    "print(\"R2: \" + str(r2_score(y_test,pred4)))\n",
    "\n",
    "pred5 = xgb_pipeline.predict(X_test)\n",
    "print(\"XGB:\")\n",
    "print(\"MSE: \" + str(mean_squared_error(y_test,pred5)))\n",
    "print(\"R2: \" + str(r2_score(y_test,pred5)))"
   ]
  },
  {
   "cell_type": "markdown",
   "metadata": {},
   "source": [
    "# Predict "
   ]
  },
  {
   "cell_type": "code",
   "execution_count": 13,
   "metadata": {},
   "outputs": [],
   "source": [
    "predict = pd.read_csv(\"predictthis.csv\")"
   ]
  },
  {
   "cell_type": "code",
   "execution_count": 14,
   "metadata": {},
   "outputs": [
    {
     "name": "stdout",
     "output_type": "stream",
     "text": [
      "<class 'pandas.core.frame.DataFrame'>\n",
      "RangeIndex: 29194 entries, 0 to 29193\n",
      "Data columns (total 23 columns):\n",
      "Auction                              29194 non-null object\n",
      "Vehicle Year                         29194 non-null int64\n",
      "Vehicle Age                          29194 non-null int64\n",
      "Make                                 29194 non-null object\n",
      "Transmission                         29191 non-null object\n",
      "WheelType                            27905 non-null object\n",
      "VehOdo                               29194 non-null int64\n",
      "Nationality                          29194 non-null object\n",
      "Size                                 29194 non-null object\n",
      "TopThreeAmericanName                 29194 non-null object\n",
      "MMRAcquisitionAuctionAveragePrice    29190 non-null float64\n",
      "MMRAcquisitionAuctionCleanPrice      29190 non-null float64\n",
      "MMRAcquisitionRetailAveragePrice     29190 non-null float64\n",
      "MMRAcquisitonRetailCleanPrice        29190 non-null float64\n",
      "MMRCurrentAuctionAveragePrice        29070 non-null float64\n",
      "MMRCurrentAuctionCleanPrice          29070 non-null float64\n",
      "MMRCurrentRetailAveragePrice         29070 non-null float64\n",
      "MMRCurrentRetailCleanPrice           29070 non-null float64\n",
      "AUCGUART                             1390 non-null object\n",
      "VNST                                 29194 non-null object\n",
      "VehBCost                             29194 non-null float64\n",
      "IsOnlineSale                         29194 non-null int64\n",
      "WarrantyCost                         29194 non-null int64\n",
      "dtypes: float64(9), int64(5), object(9)\n",
      "memory usage: 5.1+ MB\n"
     ]
    }
   ],
   "source": [
    "#Handle Missing values in the dataframe for predictthis\n",
    "X_pred = predict[predictor]\n",
    "X_pred.info()"
   ]
  },
  {
   "cell_type": "code",
   "execution_count": 15,
   "metadata": {},
   "outputs": [
    {
     "name": "stdout",
     "output_type": "stream",
     "text": [
      "<class 'pandas.core.frame.DataFrame'>\n",
      "RangeIndex: 29194 entries, 0 to 29193\n",
      "Data columns (total 23 columns):\n",
      "Auction                              29194 non-null object\n",
      "Vehicle Year                         29194 non-null int64\n",
      "Vehicle Age                          29194 non-null int64\n",
      "Make                                 29194 non-null object\n",
      "Transmission                         29194 non-null object\n",
      "WheelType                            29194 non-null object\n",
      "VehOdo                               29194 non-null int64\n",
      "Nationality                          29194 non-null object\n",
      "Size                                 29194 non-null object\n",
      "TopThreeAmericanName                 29194 non-null object\n",
      "MMRAcquisitionAuctionAveragePrice    29190 non-null float64\n",
      "MMRAcquisitionAuctionCleanPrice      29190 non-null float64\n",
      "MMRAcquisitionRetailAveragePrice     29190 non-null float64\n",
      "MMRAcquisitonRetailCleanPrice        29190 non-null float64\n",
      "MMRCurrentAuctionAveragePrice        29070 non-null float64\n",
      "MMRCurrentAuctionCleanPrice          29070 non-null float64\n",
      "MMRCurrentRetailAveragePrice         29070 non-null float64\n",
      "MMRCurrentRetailCleanPrice           29070 non-null float64\n",
      "AUCGUART                             29194 non-null object\n",
      "VNST                                 29194 non-null object\n",
      "VehBCost                             29194 non-null float64\n",
      "IsOnlineSale                         29194 non-null int64\n",
      "WarrantyCost                         29194 non-null int64\n",
      "dtypes: float64(9), int64(5), object(9)\n",
      "memory usage: 5.1+ MB\n"
     ]
    }
   ],
   "source": [
    "values = {'Transmission': 'AUTO', 'WheelType': 'Alloy', 'Nationality': 'AMERICAN', 'Size': 'MEDIUM', 'TopThreeAmericanName':'GM', 'AUCGUART': 'None'}\n",
    "X_pred = X_pred.fillna(value=values)\n",
    "X_pred.info()"
   ]
  },
  {
   "cell_type": "code",
   "execution_count": 16,
   "metadata": {},
   "outputs": [
    {
     "name": "stdout",
     "output_type": "stream",
     "text": [
      "<class 'pandas.core.frame.DataFrame'>\n",
      "RangeIndex: 29194 entries, 0 to 29193\n",
      "Data columns (total 23 columns):\n",
      "Auction                              29194 non-null object\n",
      "Vehicle Year                         29194 non-null int64\n",
      "Vehicle Age                          29194 non-null int64\n",
      "Make                                 29194 non-null object\n",
      "Transmission                         29194 non-null object\n",
      "WheelType                            29194 non-null object\n",
      "VehOdo                               29194 non-null int64\n",
      "Nationality                          29194 non-null object\n",
      "Size                                 29194 non-null object\n",
      "TopThreeAmericanName                 29194 non-null object\n",
      "MMRAcquisitionAuctionAveragePrice    29194 non-null float64\n",
      "MMRAcquisitionAuctionCleanPrice      29194 non-null float64\n",
      "MMRAcquisitionRetailAveragePrice     29194 non-null float64\n",
      "MMRAcquisitonRetailCleanPrice        29194 non-null float64\n",
      "MMRCurrentAuctionAveragePrice        29194 non-null float64\n",
      "MMRCurrentAuctionCleanPrice          29194 non-null float64\n",
      "MMRCurrentRetailAveragePrice         29194 non-null float64\n",
      "MMRCurrentRetailCleanPrice           29194 non-null float64\n",
      "AUCGUART                             29194 non-null object\n",
      "VNST                                 29194 non-null object\n",
      "VehBCost                             29194 non-null float64\n",
      "IsOnlineSale                         29194 non-null int64\n",
      "WarrantyCost                         29194 non-null int64\n",
      "dtypes: float64(9), int64(5), object(9)\n",
      "memory usage: 5.1+ MB\n"
     ]
    }
   ],
   "source": [
    "X_pred = X_pred.fillna(X.mean())\n",
    "X_pred.info()"
   ]
  },
  {
   "cell_type": "code",
   "execution_count": 17,
   "metadata": {},
   "outputs": [
    {
     "name": "stdout",
     "output_type": "stream",
     "text": [
      "<class 'pandas.core.frame.DataFrame'>\n",
      "RangeIndex: 29194 entries, 0 to 29193\n",
      "Columns: 114 entries, Vehicle Year to AUCGUART_WV\n",
      "dtypes: float64(9), int64(5), uint8(100)\n",
      "memory usage: 5.9 MB\n"
     ]
    }
   ],
   "source": [
    "string_variables =['Auction', 'Make', 'Transmission', 'WheelType', 'Nationality', 'Size', 'TopThreeAmericanName','VNST', 'AUCGUART']\n",
    "X_pred = pd.get_dummies(X_pred, prefix=string_variables)\n",
    "X_pred.info()"
   ]
  },
  {
   "cell_type": "code",
   "execution_count": 18,
   "metadata": {},
   "outputs": [],
   "source": [
    "#Predict!\n",
    "final_pred = xgb_pipeline.predict(X_pred)"
   ]
  },
  {
   "cell_type": "code",
   "execution_count": 19,
   "metadata": {},
   "outputs": [
    {
     "data": {
      "text/plain": [
       "array([0, 0, 0, ..., 0, 0, 0], dtype=int64)"
      ]
     },
     "execution_count": 19,
     "metadata": {},
     "output_type": "execute_result"
    }
   ],
   "source": [
    "final_pred"
   ]
  },
  {
   "cell_type": "code",
   "execution_count": 20,
   "metadata": {},
   "outputs": [],
   "source": [
    "#Submission CSV\n",
    "my_submission = pd.DataFrame({'RefId': predict.RefId , 'Lemon?': final_pred})\n",
    "my_submission.to_csv('submission_final.csv', index=False)"
   ]
  }
 ],
 "metadata": {
  "kernelspec": {
   "display_name": "Python 3",
   "language": "python",
   "name": "python3"
  },
  "language_info": {
   "codemirror_mode": {
    "name": "ipython",
    "version": 3
   },
   "file_extension": ".py",
   "mimetype": "text/x-python",
   "name": "python",
   "nbconvert_exporter": "python",
   "pygments_lexer": "ipython3",
   "version": "3.6.4"
  }
 },
 "nbformat": 4,
 "nbformat_minor": 2
}
