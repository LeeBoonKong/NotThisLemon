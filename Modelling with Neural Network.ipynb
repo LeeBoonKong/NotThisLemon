{
 "cells": [
  {
   "cell_type": "code",
   "execution_count": 1,
   "metadata": {},
   "outputs": [],
   "source": [
    "import numpy as np\n",
    "import pandas as pd"
   ]
  },
  {
   "cell_type": "code",
   "execution_count": 2,
   "metadata": {},
   "outputs": [],
   "source": [
    "#Load dataset\n",
    "df = pd.read_csv(\"train.csv\")"
   ]
  },
  {
   "cell_type": "code",
   "execution_count": 3,
   "metadata": {},
   "outputs": [],
   "source": [
    "prediction = [\"Lemon?\"]\n",
    "predictor = list(df.drop(prediction, axis=1))"
   ]
  },
  {
   "cell_type": "markdown",
   "metadata": {},
   "source": [
    "# Feature Extraction"
   ]
  },
  {
   "cell_type": "code",
   "execution_count": 4,
   "metadata": {},
   "outputs": [
    {
     "data": {
      "text/plain": [
       "['Auction',\n",
       " 'Vehicle Year',\n",
       " 'Vehicle Age',\n",
       " 'Make',\n",
       " 'Transmission',\n",
       " 'WheelType',\n",
       " 'VehOdo',\n",
       " 'Nationality',\n",
       " 'Size',\n",
       " 'TopThreeAmericanName',\n",
       " 'MMRAcquisitionAuctionAveragePrice',\n",
       " 'MMRAcquisitionAuctionCleanPrice',\n",
       " 'MMRAcquisitionRetailAveragePrice',\n",
       " 'MMRAcquisitonRetailCleanPrice',\n",
       " 'MMRCurrentAuctionAveragePrice',\n",
       " 'MMRCurrentAuctionCleanPrice',\n",
       " 'MMRCurrentRetailAveragePrice',\n",
       " 'MMRCurrentRetailCleanPrice',\n",
       " 'VNST',\n",
       " 'VehBCost',\n",
       " 'IsOnlineSale',\n",
       " 'WarrantyCost']"
      ]
     },
     "execution_count": 4,
     "metadata": {},
     "output_type": "execute_result"
    }
   ],
   "source": [
    "#Remove uncessary Features\n",
    "predictor.remove(\"WheelTypeID\")\n",
    "predictor.remove(\"RefId\")\n",
    "predictor.remove(\"Model\")\n",
    "predictor.remove(\"Trim\")\n",
    "predictor.remove(\"SubModel\")\n",
    "predictor.remove(\"Color\")\n",
    "predictor.remove(\"PRIMEUNIT\")\n",
    "predictor.remove(\"AUCGUART\")\n",
    "predictor.remove(\"VNZIP1\")\n",
    "predictor.remove(\"Date Purchased\")\n",
    "predictor.remove(\"BYRNO\")\n",
    "predictor"
   ]
  },
  {
   "cell_type": "code",
   "execution_count": 5,
   "metadata": {},
   "outputs": [
    {
     "name": "stdout",
     "output_type": "stream",
     "text": [
      "<class 'pandas.core.frame.DataFrame'>\n",
      "RangeIndex: 43789 entries, 0 to 43788\n",
      "Data columns (total 22 columns):\n",
      "Auction                              43789 non-null object\n",
      "Vehicle Year                         43789 non-null int64\n",
      "Vehicle Age                          43789 non-null int64\n",
      "Make                                 43789 non-null object\n",
      "Transmission                         43789 non-null object\n",
      "WheelType                            43789 non-null object\n",
      "VehOdo                               43789 non-null int64\n",
      "Nationality                          43789 non-null object\n",
      "Size                                 43789 non-null object\n",
      "TopThreeAmericanName                 43789 non-null object\n",
      "MMRAcquisitionAuctionAveragePrice    43775 non-null float64\n",
      "MMRAcquisitionAuctionCleanPrice      43775 non-null float64\n",
      "MMRAcquisitionRetailAveragePrice     43775 non-null float64\n",
      "MMRAcquisitonRetailCleanPrice        43775 non-null float64\n",
      "MMRCurrentAuctionAveragePrice        43598 non-null float64\n",
      "MMRCurrentAuctionCleanPrice          43598 non-null float64\n",
      "MMRCurrentRetailAveragePrice         43598 non-null float64\n",
      "MMRCurrentRetailCleanPrice           43598 non-null float64\n",
      "VNST                                 43789 non-null object\n",
      "VehBCost                             43789 non-null float64\n",
      "IsOnlineSale                         43789 non-null int64\n",
      "WarrantyCost                         43789 non-null int64\n",
      "dtypes: float64(9), int64(5), object(8)\n",
      "memory usage: 7.3+ MB\n"
     ]
    }
   ],
   "source": [
    "#fill in missing value\n",
    "\n",
    "\n",
    "#Fill in missing string values\n",
    "X = df[predictor]\n",
    "values = {'Transmission': 'AUTO', 'WheelType': 'Alloy', 'Nationality': 'AMERICAN', 'Size': 'MEDIUM', 'TopThreeAmericanName':'GM'}\n",
    "X = X.fillna(value=values)\n",
    "\n",
    "#Transmission seems to have 'Manual and 'MANUAL', replace 'Manual' with all caps\n",
    "X = X.replace('Manual', 'MANUAL')\n",
    "X.info()"
   ]
  },
  {
   "cell_type": "code",
   "execution_count": 6,
   "metadata": {},
   "outputs": [
    {
     "name": "stdout",
     "output_type": "stream",
     "text": [
      "<class 'pandas.core.frame.DataFrame'>\n",
      "RangeIndex: 43789 entries, 0 to 43788\n",
      "Data columns (total 22 columns):\n",
      "Auction                              43789 non-null object\n",
      "Vehicle Year                         43789 non-null int64\n",
      "Vehicle Age                          43789 non-null int64\n",
      "Make                                 43789 non-null object\n",
      "Transmission                         43789 non-null object\n",
      "WheelType                            43789 non-null object\n",
      "VehOdo                               43789 non-null int64\n",
      "Nationality                          43789 non-null object\n",
      "Size                                 43789 non-null object\n",
      "TopThreeAmericanName                 43789 non-null object\n",
      "MMRAcquisitionAuctionAveragePrice    43789 non-null float64\n",
      "MMRAcquisitionAuctionCleanPrice      43789 non-null float64\n",
      "MMRAcquisitionRetailAveragePrice     43789 non-null float64\n",
      "MMRAcquisitonRetailCleanPrice        43789 non-null float64\n",
      "MMRCurrentAuctionAveragePrice        43789 non-null float64\n",
      "MMRCurrentAuctionCleanPrice          43789 non-null float64\n",
      "MMRCurrentRetailAveragePrice         43789 non-null float64\n",
      "MMRCurrentRetailCleanPrice           43789 non-null float64\n",
      "VNST                                 43789 non-null object\n",
      "VehBCost                             43789 non-null float64\n",
      "IsOnlineSale                         43789 non-null int64\n",
      "WarrantyCost                         43789 non-null int64\n",
      "dtypes: float64(9), int64(5), object(8)\n",
      "memory usage: 7.3+ MB\n"
     ]
    }
   ],
   "source": [
    "#fill missing value with mean\n",
    "X = X.fillna(X.mean())\n",
    "X.info()"
   ]
  },
  {
   "cell_type": "code",
   "execution_count": 7,
   "metadata": {},
   "outputs": [],
   "source": [
    "#One hot encode\n",
    "string_variables =['Auction', 'Make', 'Transmission', 'WheelType', 'Nationality', 'Size', 'TopThreeAmericanName','VNST']\n",
    "X = pd.get_dummies(X, prefix=string_variables)"
   ]
  },
  {
   "cell_type": "code",
   "execution_count": 8,
   "metadata": {},
   "outputs": [
    {
     "name": "stdout",
     "output_type": "stream",
     "text": [
      "<class 'pandas.core.frame.DataFrame'>\n",
      "RangeIndex: 43789 entries, 0 to 43788\n",
      "Columns: 111 entries, Vehicle Year to VNST_WV\n",
      "dtypes: float64(9), int64(5), uint8(97)\n",
      "memory usage: 8.7 MB\n"
     ]
    }
   ],
   "source": [
    "X.info()"
   ]
  },
  {
   "cell_type": "code",
   "execution_count": 9,
   "metadata": {},
   "outputs": [],
   "source": [
    "#Split validation set and training set\n",
    "from sklearn.model_selection import train_test_split\n",
    "\n",
    "y =df[prediction]\n",
    "\n",
    "X_train, X_test, y_train, y_test = train_test_split(X, y,\n",
    "                                                    test_size=0.2,\n",
    "                                                    random_state=153,\n",
    "                                                    stratify=y)"
   ]
  },
  {
   "cell_type": "code",
   "execution_count": 10,
   "metadata": {},
   "outputs": [],
   "source": [
    "#Scale data\n",
    "from sklearn.preprocessing import StandardScaler\n",
    "\n",
    "scaler = StandardScaler().fit(X_train)\n",
    "X_train = scaler.transform(X_train)\n",
    "X_test = scaler.transform(X_test)"
   ]
  },
  {
   "cell_type": "markdown",
   "metadata": {},
   "source": [
    "# Modelling with Keras Neural Network"
   ]
  },
  {
   "cell_type": "code",
   "execution_count": 11,
   "metadata": {},
   "outputs": [
    {
     "name": "stderr",
     "output_type": "stream",
     "text": [
      "Using TensorFlow backend.\n"
     ]
    }
   ],
   "source": [
    "from keras.models import Sequential\n",
    "from keras.layers import Dense\n",
    "from keras.layers import Dropout\n",
    "from keras import regularizers\n",
    "\n",
    "model = Sequential()\n",
    "\n",
    "model.add(Dense(111, activation='relu', input_dim=111))\n",
    "\n",
    "model.add(Dense(74, activation='relu'))\n",
    "model.add(Dropout(0.25))\n",
    "\n",
    "model.add(Dense(50, activation='relu'))\n",
    "model.add(Dropout(0.25))\n",
    "\n",
    "model.add(Dense(33,activation='relu'))\n",
    "model.add(Dropout(0.5))\n",
    "\n",
    "model.add(Dense(22,activation='relu'))\n",
    "model.add(Dropout(0.8))\n",
    "\n",
    "model.add(Dense(14, activation='relu'))\n",
    "model.add(Dropout(0.5))\n",
    "\n",
    "model.add(Dense(9, activation='relu'))\n",
    "\n",
    "model.add(Dense(1, activation='relu'))"
   ]
  },
  {
   "cell_type": "code",
   "execution_count": 12,
   "metadata": {},
   "outputs": [
    {
     "name": "stdout",
     "output_type": "stream",
     "text": [
      "Epoch 1/3\n",
      "35031/35031 [==============================] - 39s 1ms/step - loss: 1.8331 - acc: 0.8654\n",
      "Epoch 2/3\n",
      "35031/35031 [==============================] - 42s 1ms/step - loss: 1.9117 - acc: 0.8768\n",
      "Epoch 3/3\n",
      "35031/35031 [==============================] - 39s 1ms/step - loss: 1.9751 - acc: 0.8770: 0s - loss: 1.9704 - acc:\n"
     ]
    },
    {
     "data": {
      "text/plain": [
       "<keras.callbacks.History at 0x297fa06bd30>"
      ]
     },
     "execution_count": 12,
     "metadata": {},
     "output_type": "execute_result"
    }
   ],
   "source": [
    "model.compile(loss='binary_crossentropy',\n",
    "              optimizer='adam',\n",
    "              metrics=['accuracy'])\n",
    "\n",
    "model.fit(X_train, y_train, epochs=3, batch_size=1, verbose=1)"
   ]
  },
  {
   "cell_type": "code",
   "execution_count": 13,
   "metadata": {},
   "outputs": [
    {
     "name": "stdout",
     "output_type": "stream",
     "text": [
      "8758/8758 [==============================] - 0s 30us/step\n",
      "[1.9820950891597904, 0.87702671845608804]\n"
     ]
    }
   ],
   "source": [
    "score = model.evaluate(X_test, y_test,verbose=1)\n",
    "\n",
    "print(score)"
   ]
  },
  {
   "cell_type": "markdown",
   "metadata": {},
   "source": [
    "# Predict"
   ]
  },
  {
   "cell_type": "code",
   "execution_count": 14,
   "metadata": {},
   "outputs": [],
   "source": [
    "predict = pd.read_csv(\"predictthis.csv\")"
   ]
  },
  {
   "cell_type": "code",
   "execution_count": 15,
   "metadata": {},
   "outputs": [],
   "source": [
    "X_pred = predict[predictor]"
   ]
  }
 ],
 "metadata": {
  "kernelspec": {
   "display_name": "Python 3",
   "language": "python",
   "name": "python3"
  },
  "language_info": {
   "codemirror_mode": {
    "name": "ipython",
    "version": 3
   },
   "file_extension": ".py",
   "mimetype": "text/x-python",
   "name": "python",
   "nbconvert_exporter": "python",
   "pygments_lexer": "ipython3",
   "version": "3.6.4"
  }
 },
 "nbformat": 4,
 "nbformat_minor": 2
}
